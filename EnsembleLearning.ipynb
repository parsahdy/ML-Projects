{
 "cells": [
  {
   "cell_type": "markdown",
   "metadata": {},
   "source": [
    "## Ensemble Learning\n",
    "\n",
    "### Desicion Tree"
   ]
  },
  {
   "cell_type": "code",
   "execution_count": 20,
   "metadata": {},
   "outputs": [],
   "source": [
    "import numpy as np\n",
    "import pandas as pd\n",
    "from scipy.io import arff"
   ]
  },
  {
   "cell_type": "code",
   "execution_count": 3,
   "metadata": {},
   "outputs": [],
   "source": [
    "class DecisionTree:\n",
    "    def __init__(self):\n",
    "        self.feature = None\n",
    "        self.threshold = None\n",
    "        self.value_left = None\n",
    "        self.value_right = None\n",
    "\n",
    "    def fit(self, X, y):\n",
    "        best_gain = -1\n",
    "        for feature_index in range(X.shape[1]):\n",
    "            thresholds = np.unique(X[:, feature_index])\n",
    "            for threshold in thresholds:\n",
    "                left_mask = X[:, feature_index] <= threshold\n",
    "                right_mask = ~left_mask\n",
    "                left_y, right_y = y[left_mask], y[right_mask]\n",
    "                if len(left_y) and len(right_y):\n",
    "                    left_weight = len(left_y) / len(y)\n",
    "                    right_weight = 1 - left_weight\n",
    "                    gain = self._entropy(y) - (left_weight * self._entropy(left_y) + right_weight * self._entropy(right_y))\n",
    "                    if gain > best_gain:\n",
    "                        best_gain = gain\n",
    "                        self.feature = feature_index\n",
    "                        self.threshold = threshold\n",
    "                        self.value_left = np.bincount(left_y).argmax()\n",
    "                        self.value_right = np.bincount(right_y).argmax()\n",
    "\n",
    "    def predict(self, X):\n",
    "        return np.where(X[:, self.feature] <= self.threshold, self.value_left, self.value_right)\n",
    "\n",
    "    def _entropy(self, y):\n",
    "        proportions = np.bincount(y) / len(y)\n",
    "        return -np.sum([p * np.log2(p) for p in proportions if p > 0])"
   ]
  },
  {
   "cell_type": "code",
   "execution_count": 10,
   "metadata": {},
   "outputs": [],
   "source": [
    "file = r\"E:\\KHU\\ML\\Last\\dataset_37_diabetes.arff\"\n",
    "\n",
    "data, meta = arff.loadarff(file)\n",
    "df = pd.DataFrame(data)\n",
    "\n",
    "\n",
    "X = df.iloc[:, :-1].values\n",
    "y = df.iloc[:, -1].values\n",
    "X = X.astype(float)\n",
    "\n",
    "y = np.array([val.decode('utf-8') for val in y])  \n",
    "mapping = {'tested_positive': 1, 'tested_negative': 0}\n",
    "y = np.array([mapping[val] for val in y])"
   ]
  },
  {
   "cell_type": "code",
   "execution_count": 13,
   "metadata": {},
   "outputs": [
    {
     "name": "stdout",
     "output_type": "stream",
     "text": [
      "Shape of X_train: (614, 8), y_train: (614,)\n",
      "Shape of X_test: (154, 8), y_test: (154,)\n"
     ]
    }
   ],
   "source": [
    "from sklearn.model_selection import train_test_split\n",
    "\n",
    "X_train, X_test, y_train, y_test = train_test_split(X, y.flatten(), test_size=0.2, random_state=42)\n",
    "\n",
    "print(f\"Shape of X_train: {X_train.shape}, y_train: {y_train.shape}\")\n",
    "print(f\"Shape of X_test: {X_test.shape}, y_test: {y_test.shape}\")"
   ]
  },
  {
   "cell_type": "code",
   "execution_count": 14,
   "metadata": {},
   "outputs": [
    {
     "name": "stdout",
     "output_type": "stream",
     "text": [
      "Decision Tree Accuracy: 0.740\n",
      "Decision Tree F1-Score: 0.742\n"
     ]
    }
   ],
   "source": [
    "from sklearn.metrics import accuracy_score, f1_score\n",
    "\n",
    "Tree = DecisionTree()\n",
    "Tree.fit(X_train, y_train)\n",
    "\n",
    "Tree_predictions = Tree.predict(X_test)\n",
    "\n",
    "print(f\"Decision Tree Accuracy: {accuracy_score(y_test, Tree_predictions):.3f}\")\n",
    "print(f\"Decision Tree F1-Score: {f1_score(y_test, Tree_predictions, average='weighted'):.3f}\")"
   ]
  },
  {
   "cell_type": "markdown",
   "metadata": {},
   "source": [
    "### Random Forest"
   ]
  },
  {
   "cell_type": "code",
   "execution_count": 15,
   "metadata": {},
   "outputs": [],
   "source": [
    "from sklearn.utils import resample"
   ]
  },
  {
   "cell_type": "code",
   "execution_count": 18,
   "metadata": {},
   "outputs": [],
   "source": [
    "class RandomForest:\n",
    "    def __init__(self, n_trees=7):\n",
    "        self.n_trees = n_trees\n",
    "        self.trees = []\n",
    "\n",
    "    def fit(self, X, y):\n",
    "        self.trees = []\n",
    "        for _ in range(self.n_trees):\n",
    "            stump = DecisionTree()\n",
    "            X_sample, y_sample = self._bootstrap_samples(X, y)\n",
    "            stump.fit(X_sample, y_sample)\n",
    "            self.trees.append(stump)\n",
    "\n",
    "    def predict(self, X):\n",
    "        stump_predictions = np.array([stump.predict(X) for stump in self.trees])\n",
    "        return self._majority_vote(stump_predictions)\n",
    "    \n",
    "    def _bootstrap_samples(self, X, y):\n",
    "        return resample(X, y, n_samples=len(X), replace=True)\n",
    "    \n",
    "    def _majority_vote(self, predictions):\n",
    "        return np.apply_along_axis(lambda x: np.bincount(x).argmax(), axis=0, arr=predictions)\n"
   ]
  },
  {
   "cell_type": "code",
   "execution_count": 21,
   "metadata": {},
   "outputs": [],
   "source": [
    "file = r\"E:\\KHU\\ML\\Last\\dataset_37_diabetes.arff\"\n",
    "\n",
    "data, meta = arff.loadarff(file)\n",
    "df = pd.DataFrame(data)\n",
    "\n",
    "\n",
    "X = df.iloc[:, :-1].values\n",
    "y = df.iloc[:, -1].values\n",
    "X = X.astype(float)"
   ]
  },
  {
   "cell_type": "code",
   "execution_count": 22,
   "metadata": {},
   "outputs": [
    {
     "name": "stdout",
     "output_type": "stream",
     "text": [
      "Shape of X_train: (614, 8), y_train: (614,)\n",
      "Shape of X_test: (154, 8), y_test: (154,)\n"
     ]
    }
   ],
   "source": [
    "X_train, X_test, y_train, y_test = train_test_split(X, y, test_size=0.2, random_state=42)\n",
    "\n",
    "print(f\"Shape of X_train: {X_train.shape}, y_train: {y_train.shape}\")\n",
    "print(f\"Shape of X_test: {X_test.shape}, y_test: {y_test.shape}\")"
   ]
  },
  {
   "cell_type": "code",
   "execution_count": 19,
   "metadata": {},
   "outputs": [
    {
     "name": "stdout",
     "output_type": "stream",
     "text": [
      "Custom RF Accuracy: 0.740\n",
      "Custom RF F1-Score: 0.740\n"
     ]
    }
   ],
   "source": [
    "rf_custom = RandomForest()\n",
    "rf_custom.fit(X_train, y_train)\n",
    "\n",
    "rf_cust_predictions = rf_custom.predict(X_test)\n",
    "\n",
    "print(f\"Custom RF Accuracy: {accuracy_score(y_test, rf_cust_predictions):.3f}\")\n",
    "print(f\"Custom RF F1-Score: {f1_score(y_test, rf_cust_predictions, average='weighted'):.3f}\")"
   ]
  }
 ],
 "metadata": {
  "kernelspec": {
   "display_name": "Python 3",
   "language": "python",
   "name": "python3"
  },
  "language_info": {
   "codemirror_mode": {
    "name": "ipython",
    "version": 3
   },
   "file_extension": ".py",
   "mimetype": "text/x-python",
   "name": "python",
   "nbconvert_exporter": "python",
   "pygments_lexer": "ipython3",
   "version": "3.12.6"
  }
 },
 "nbformat": 4,
 "nbformat_minor": 2
}
