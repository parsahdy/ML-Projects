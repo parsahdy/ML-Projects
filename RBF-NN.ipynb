{
 "cells": [
  {
   "cell_type": "code",
   "execution_count": 4,
   "metadata": {},
   "outputs": [],
   "source": [
    "import numpy as np\n",
    "from sklearn.datasets import fetch_california_housing"
   ]
  },
  {
   "cell_type": "code",
   "execution_count": 5,
   "metadata": {},
   "outputs": [
    {
     "name": "stdout",
     "output_type": "stream",
     "text": [
      "Mean Squared Error: 2.737088899315867\n"
     ]
    }
   ],
   "source": [
    "def rbf(x, c, s):\n",
    "    return np.exp(-np.linalg.norm(x - c) ** 2 / (2 * s ** 2))\n",
    "\n",
    "\n",
    "housing = fetch_california_housing()\n",
    "X = housing.data\n",
    "y = housing.target\n",
    "\n",
    "\n",
    "training_size = int(0.6 * len(X))\n",
    "X_train, X_test = X[:training_size], X[training_size:]\n",
    "y_train, y_test = y[:training_size], y[training_size:]\n",
    "\n",
    "\n",
    "def distance_based_centers(X_train, num_centers):\n",
    "    centers = [X_train[np.random.choice(X.shape[0])]]\n",
    "    for _ in range(1, num_centers):\n",
    "        dist = np.array([np.min(np.linalg.norm(X_train - c, axis=1)) for c in centers])\n",
    "        next_center = X_train[np.argmax(dist)]\n",
    "        centers.append(next_center)\n",
    "    return np.array(centers)\n",
    "\n",
    "num_centers = 10\n",
    "centers = distance_based_centers(X, num_centers)\n",
    "\n",
    "def calculate_sigma(centers):\n",
    "    d_max = np.max([np.linalg.norm(c1 - c2) for i, c1 in enumerate(centers) for c2 in centers[i+1:]])\n",
    "    return d_max / np.sqrt(2 * len(centers))\n",
    "\n",
    "sigma = calculate_sigma(centers)\n",
    "\n",
    "R = np.zeros((X_train.shape[0], len(centers)))\n",
    "for i in range(X_train.shape[0]):\n",
    "    for j in range(len(centers)):\n",
    "        R[i, j] = rbf(X_train[i], centers[j], sigma)\n",
    "\n",
    "W = np.dot(np.linalg.pinv(R), y_train)\n",
    "\n",
    "def rbf_network(X_train, centers, sigma, W):\n",
    "    R = np.zeros((X_train.shape[0], len(centers)))\n",
    "    for i in range(X_train.shape[0]):\n",
    "        for j in range(len(centers)):\n",
    "            R[i, j] = rbf(X_train[i], centers[j], sigma)\n",
    "    return np.dot(R, W)\n",
    "\n",
    "y_pred = rbf_network(X_test, centers, sigma, W)\n",
    "\n",
    "def MSE(y_true, y_pred):\n",
    "    return np.mean((y_true - y_pred) ** 2)\n",
    "\n",
    "mse = MSE(y_test, y_pred)\n",
    "print(f\"Mean Squared Error: {mse}\")"
   ]
  },
  {
   "cell_type": "code",
   "execution_count": null,
   "metadata": {},
   "outputs": [],
   "source": []
  }
 ],
 "metadata": {
  "kernelspec": {
   "display_name": "Python 3",
   "language": "python",
   "name": "python3"
  },
  "language_info": {
   "codemirror_mode": {
    "name": "ipython",
    "version": 3
   },
   "file_extension": ".py",
   "mimetype": "text/x-python",
   "name": "python",
   "nbconvert_exporter": "python",
   "pygments_lexer": "ipython3",
   "version": "3.12.6"
  }
 },
 "nbformat": 4,
 "nbformat_minor": 2
}
