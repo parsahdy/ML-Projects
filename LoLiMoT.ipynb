{
 "cells": [
  {
   "cell_type": "code",
   "execution_count": 2,
   "metadata": {},
   "outputs": [],
   "source": [
    "import numpy as np"
   ]
  },
  {
   "cell_type": "code",
   "execution_count": null,
   "metadata": {},
   "outputs": [],
   "source": [
    "class LoLiMoT:\n",
    "    def __init__(self, input_dim, num_neurons=5):\n",
    "        self.num_neurons = num_neurons\n",
    "        self.input_dim = input_dim\n",
    "        self.centers = np.random.uniform(-1, 1, size=(num_neurons, input_dim))  \n",
    "        self.variances = np.ones((num_neurons, input_dim)) \n",
    "        self.weights = [np.random.randn(input_dim + 1) for _ in range(num_neurons)]  \n",
    "\n",
    "    def gaussian_kernel(self, X, center, variance):\n",
    "        return np.exp(-0.5 * np.sum(((X - center) ** 2) / variance, axis=1))\n",
    "\n",
    "    def predict(self, X):\n",
    "        n_samples = X.shape[0]\n",
    "        outputs = np.zeros((n_samples, self.num_neurons))\n",
    "        kernel_weights = np.zeros((n_samples, self.num_neurons))\n",
    "\n",
    "        for i in range(self.num_neurons):\n",
    "            kernel_weights[:, i] = self.gaussian_kernel(X, self.centers[i], self.variances[i])\n",
    "            outputs[:, i] = np.dot(np.c_[X, np.ones(n_samples)], self.weights[i])\n",
    "\n",
    "        kernel_weights /= (np.sum(kernel_weights, axis=1, keepdims=True) + 1e-8)\n",
    "\n",
    "        final_output = np.sum(kernel_weights * outputs, axis=1)\n",
    "        return final_output, kernel_weights\n",
    "\n",
    "\n",
    "    def compute_loss(self, y_true, y_pred):\n",
    "        return np.mean((y_true - y_pred) ** 2)\n",
    "\n",
    "\n",
    "    def update_parameters(self, X, y, y_pred, kernel_weights, learning_rate=0.01):\n",
    "        n_samples, n_features = X.shape\n",
    "\n",
    "        for i in range(self.num_neurons):\n",
    "            local_error = (y - y_pred) * kernel_weights[:, i]\n",
    "            X_with_bias = np.c_[X, np.ones(n_samples)]\n",
    "            gradient = -2 * np.dot(local_error, X_with_bias) / n_samples\n",
    "            \n",
    "            self.weights[i] -= learning_rate * gradient\n",
    "\n",
    "\n",
    "        for i in range(self.num_neurons):\n",
    "            center_grad = np.sum(kernel_weights[:, i:i+1] * (X - self.centers[i]), axis=0)\n",
    "            self.centers[i] += learning_rate * center_grad\n",
    "\n",
    "        \n",
    "        for i in range(self.num_neurons):\n",
    "            variance_grad = np.sum(kernel_weights[:, i:i+1] * ((X - self.centers[i]) ** 2), axis=0)\n",
    "            self.variances[i] += learning_rate * variance_grad\n",
    "\n",
    "\n",
    "    def train(self, X, y, epochs=100, learning_rate=0.01):\n",
    "        for epoch in range(epochs):\n",
    "            y_pred, kernel_weights = self.predict(X)\n",
    "            loss = self.compute_loss(y, y_pred)\n",
    "\n",
    "            self.update_parameters(X, y, y_pred, kernel_weights, learning_rate)\n",
    "\n",
    "            if epoch % 10 == 0:\n",
    "                print(f\"Epoch {epoch}, Loss: {loss:.4f}\")\n",
    "\n",
    "        return loss"
   ]
  },
  {
   "cell_type": "code",
   "execution_count": null,
   "metadata": {},
   "outputs": [
    {
     "name": "stdout",
     "output_type": "stream",
     "text": [
      "Epoch 0, Loss: 4.6652\n",
      "Epoch 10, Loss: 3.7959\n",
      "Epoch 20, Loss: 3.0852\n",
      "Epoch 30, Loss: 2.9844\n",
      "Epoch 40, Loss: 3.0336\n",
      "Epoch 50, Loss: 3.1020\n",
      "Epoch 60, Loss: 3.0964\n",
      "Epoch 70, Loss: 3.1800\n",
      "Epoch 80, Loss: 3.1628\n",
      "Epoch 90, Loss: 3.1383\n",
      "Mean Squared Error: 4.197580260634937\n"
     ]
    }
   ],
   "source": [
    "from sklearn.datasets import fetch_california_housing\n",
    "from sklearn.preprocessing import StandardScaler\n",
    "\n",
    "housing = fetch_california_housing()\n",
    "\n",
    "scaler_X = StandardScaler()\n",
    "scaler_y = StandardScaler()\n",
    "\n",
    "X = housing.data\n",
    "y = housing.target\n",
    "\n",
    "X_normalized = scaler_X.fit_transform(X)\n",
    "y_normalized = scaler_y.fit_transform(y.reshape(-1, 1)).ravel()\n",
    "\n",
    "train_size = int(0.8 * len(X_normalized))\n",
    "X_train, X_test = X_normalized[:train_size], X_normalized[train_size:]\n",
    "y_train, y_test = y_normalized[:train_size], y_normalized[train_size:]\n",
    "\n",
    "\n",
    "NN = LoLiMoT(input_dim=8, num_neurons=5)  \n",
    "NN.train(X_train, y_train, epochs=100, learning_rate=0.0001)\n",
    "y_pred, _ = NN.predict(X_test)\n",
    "\n",
    "y_pred_original = scaler_y.inverse_transform(y_pred.reshape(-1, 1)).ravel()\n",
    "y_test_original = scaler_y.inverse_transform(y_test.reshape(-1, 1)).ravel()\n",
    "\n",
    "\n",
    "def MSE(y_true, y_pred):\n",
    "    return np.mean((y_test_original - y_pred_original) ** 2)\n",
    "\n",
    "mse = MSE(y, y_pred)\n",
    "print(f\"Mean Squared Error: {mse}\")"
   ]
  },
  {
   "cell_type": "code",
   "execution_count": null,
   "metadata": {},
   "outputs": [],
   "source": []
  }
 ],
 "metadata": {
  "kernelspec": {
   "display_name": "venv",
   "language": "python",
   "name": "python3"
  },
  "language_info": {
   "codemirror_mode": {
    "name": "ipython",
    "version": 3
   },
   "file_extension": ".py",
   "mimetype": "text/x-python",
   "name": "python",
   "nbconvert_exporter": "python",
   "pygments_lexer": "ipython3",
   "version": "3.12.6"
  }
 },
 "nbformat": 4,
 "nbformat_minor": 2
}
